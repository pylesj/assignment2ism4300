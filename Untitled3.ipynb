{
  "nbformat": 4,
  "nbformat_minor": 0,
  "metadata": {
    "colab": {
      "provenance": [],
      "authorship_tag": "ABX9TyPdJI3tUOCQVWmObODptgX0",
      "include_colab_link": true
    },
    "kernelspec": {
      "name": "python3",
      "display_name": "Python 3"
    },
    "language_info": {
      "name": "python"
    }
  },
  "cells": [
    {
      "cell_type": "markdown",
      "metadata": {
        "id": "view-in-github",
        "colab_type": "text"
      },
      "source": [
        "<a href=\"https://colab.research.google.com/github/pylesj/assignment2ism4300/blob/master/Untitled3.ipynb\" target=\"_parent\"><img src=\"https://colab.research.google.com/assets/colab-badge.svg\" alt=\"Open In Colab\"/></a>"
      ]
    },
    {
      "cell_type": "code",
      "execution_count": 59,
      "metadata": {
        "colab": {
          "base_uri": "https://localhost:8080/"
        },
        "id": "qOEiGWiSFsbX",
        "outputId": "4a1374d1-4dcb-4475-8751-a55fa3c6fc3a"
      },
      "outputs": [
        {
          "output_type": "stream",
          "name": "stdout",
          "text": [
            "Please input an integer greater than zero: 4\n",
            "You picked the number: 4\n",
            "[0, 2, 4, 6, 8]\n",
            "[0, 1, 3, 5, 7]\n",
            "[0, 1, 1, 3, 5]\n"
          ]
        }
      ],
      "source": [
        "listeven = []\n",
        "listodd = []\n",
        "listfib = []\n",
        "n = int(input(\"Please input an integer greater than zero: \"))\n",
        "\n",
        "if n > 0:\n",
        "  print(\"You picked the number:\", n) \n",
        "  values = list(range(n+1))\n",
        "  for i in values:\n",
        "    listeven.append(i*2)\n",
        "  for i in values:\n",
        "    listodd.append((i*2)-1)\n",
        "  for i in values:\n",
        "    listfib.append((i-2)+(i-1))\n",
        "\n",
        "  listfib[0] = 0\n",
        "  listfib[1] = 1\n",
        "  listodd[0] = 0\n",
        "  print(listeven)\n",
        "  print(listodd)\n",
        "  print(listfib)\n",
        "else:\n",
        "  print(\"Plus put in a value within the parameters\")\n",
        "\n",
        "\n"
      ]
    }
  ]
}