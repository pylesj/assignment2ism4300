{
  "nbformat": 4,
  "nbformat_minor": 0,
  "metadata": {
    "colab": {
      "provenance": [],
      "collapsed_sections": [],
      "authorship_tag": "ABX9TyPW200/OgHuXZfHPFO7nWHA",
      "include_colab_link": true
    },
    "kernelspec": {
      "name": "python3",
      "display_name": "Python 3"
    },
    "language_info": {
      "name": "python"
    }
  },
  "cells": [
    {
      "cell_type": "markdown",
      "metadata": {
        "id": "view-in-github",
        "colab_type": "text"
      },
      "source": [
        "<a href=\"https://colab.research.google.com/github/pylesj/assignment2ism4300/blob/master/assignment7.ipynb\" target=\"_parent\"><img src=\"https://colab.research.google.com/assets/colab-badge.svg\" alt=\"Open In Colab\"/></a>"
      ]
    },
    {
      "cell_type": "code",
      "source": [
        "import numpy as np"
      ],
      "metadata": {
        "colab": {
          "base_uri": "https://localhost:8080/"
        },
        "id": "oo_NWfB-Ag-C",
        "outputId": "4c0255a8-7583-4ea2-d1c9-212df7379d84"
      },
      "execution_count": 1,
      "outputs": [
        {
          "output_type": "execute_result",
          "data": {
            "text/plain": [
              "array([33, 18, 42, 13, 29, 38, 49, 22, 40, 30])"
            ]
          },
          "metadata": {},
          "execution_count": 1
        }
      ]
    },
    {
      "cell_type": "code",
      "execution_count": 1,
      "metadata": {
        "id": "gvS5Nnxw_c4W"
      },
      "outputs": [],
      "source": [
        "def method_0(input):\n",
        "  out = []\n",
        "  for i in range(input):\n",
        "    out.append(np.random.randint(low = 10,high = 50, size = user_input))\n",
        "  return out"
      ]
    },
    {
      "cell_type": "code",
      "source": [
        "def method_1(n):\n",
        "  list1 = (np.random.randint(10,50,n))\n",
        "  return list1\n",
        "\n",
        "def method_2(list1):\n",
        "  x = 0\n",
        "  for i in list1:\n",
        "    x = x + i\n",
        "  return x"
      ],
      "metadata": {
        "id": "Rw44DZCtAwhn"
      },
      "execution_count": 22,
      "outputs": []
    },
    {
      "cell_type": "code",
      "source": [
        "while True:\n",
        "  user_input = int(input(\"Enter a value between 5 and 15: \"))\n",
        "  if (user_input >=5) and (user_input<=15): break\n",
        "\n",
        "print(\"The values in the array are\", method_1(user_input))\n",
        "print(\"The sum is\", method_2(method_1(user_input)))"
      ],
      "metadata": {
        "colab": {
          "base_uri": "https://localhost:8080/"
        },
        "id": "iB8F2utYGTTS",
        "outputId": "59ecb774-5218-43bc-a14c-14d338377d62"
      },
      "execution_count": 24,
      "outputs": [
        {
          "output_type": "stream",
          "name": "stdout",
          "text": [
            "Enter a value between 5 and 15: 5\n",
            "The values in the array are [12 49 23 32 21]\n",
            "The sum is 168\n"
          ]
        }
      ]
    }
  ]
}